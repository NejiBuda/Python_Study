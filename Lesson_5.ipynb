{
  "nbformat": 4,
  "nbformat_minor": 0,
  "metadata": {
    "colab": {
      "name": "Lesson_5.ipynb",
      "provenance": [],
      "authorship_tag": "ABX9TyMjnmlDvJJbfy4+QyKWbG9j",
      "include_colab_link": true
    },
    "kernelspec": {
      "name": "python3",
      "display_name": "Python 3"
    },
    "language_info": {
      "name": "python"
    }
  },
  "cells": [
    {
      "cell_type": "markdown",
      "metadata": {
        "id": "view-in-github",
        "colab_type": "text"
      },
      "source": [
        "<a href=\"https://colab.research.google.com/github/NejiBuda/Python_Study/blob/main/Lesson_5.ipynb\" target=\"_parent\"><img src=\"https://colab.research.google.com/assets/colab-badge.svg\" alt=\"Open In Colab\"/></a>"
      ]
    },
    {
      "cell_type": "code",
      "execution_count": null,
      "metadata": {
        "id": "cxgDTY5p5KSF"
      },
      "outputs": [],
      "source": [
        ""
      ]
    },
    {
      "cell_type": "markdown",
      "source": [
        "Задание 1\n",
        "\n",
        "Напишите код, моделирующий выпадение поля в рулетке (с учетом поля зеро).\n"
      ],
      "metadata": {
        "id": "ZHHRZngo5TeR"
      }
    },
    {
      "cell_type": "code",
      "source": [
        "%matplotlib inline\n",
        "import numpy as np"
      ],
      "metadata": {
        "id": "2hifo7Yj5VuX"
      },
      "execution_count": 1,
      "outputs": []
    },
    {
      "cell_type": "code",
      "source": [
        "\n",
        "np.random.randint(0, 36)\n",
        "    "
      ],
      "metadata": {
        "colab": {
          "base_uri": "https://localhost:8080/"
        },
        "id": "vJyZkqpf5oET",
        "outputId": "4b669661-e5a7-493c-e03e-5f35b9b58dcd"
      },
      "execution_count": 14,
      "outputs": [
        {
          "output_type": "execute_result",
          "data": {
            "text/plain": [
              "1"
            ]
          },
          "metadata": {},
          "execution_count": 14
        }
      ]
    },
    {
      "cell_type": "markdown",
      "source": [
        "Задание 2\n",
        "\n",
        "1) Напишите код, проверяющий любую из теорем сложения или умножения\n",
        "вероятности на примере рулетки или подбрасывания монетки."
      ],
      "metadata": {
        "id": "ADZ-m_BX7TQh"
      }
    },
    {
      "cell_type": "code",
      "source": [
        "k,m,l = 0, 0, 0\n",
        "n = 100\n",
        "for i in range(0, n):\n",
        "    x = np.random.uniform(0, 10)\n",
        "    l=l+1\n",
        "    if x<5:\n",
        "        k = k + 1 \n",
        "    else:\n",
        "        m = m + 1\n",
        "if k+m==l:\n",
        "  print(True)\n",
        "else:\n",
        "  print(False)\n",
        "print(k,m,l)"
      ],
      "metadata": {
        "colab": {
          "base_uri": "https://localhost:8080/"
        },
        "id": "JmLa740-7kAk",
        "outputId": "8d2f6cdb-7fae-4639-eba4-d5ab7f9a76e3"
      },
      "execution_count": 15,
      "outputs": [
        {
          "output_type": "stream",
          "name": "stdout",
          "text": [
            "True\n",
            "51 49 100\n"
          ]
        }
      ]
    },
    {
      "cell_type": "markdown",
      "source": [
        "2) Сгенерируйте десять выборок случайных чисел х0, …, х9.\n",
        "и постройте гистограмму распределения случайной суммы +х0+ …+ х 9."
      ],
      "metadata": {
        "id": "xyZMVmPaA6i0"
      }
    },
    {
      "cell_type": "code",
      "source": [
        "%matplotlib inline\n",
        "import numpy as np\n",
        "import matplotlib.pyplot as plt\n",
        "import matplotlib.mlab as mlab\n",
        "\n",
        "allsums=[]\n",
        "for i in range(11):\n",
        "  x=np.random.rand(10)\n",
        "  allsums.append(sum(x))\n",
        "  i+=1\n",
        "num_bins = 10\n",
        "n, bins, patches = plt.hist(allsums, num_bins)\n",
        "plt.xlabel('summa')\n",
        "plt.ylabel('Probability')\n",
        "plt.title('Histogram')"
      ],
      "metadata": {
        "colab": {
          "base_uri": "https://localhost:8080/",
          "height": 312
        },
        "id": "NBjiaBVIBByw",
        "outputId": "3a86ad84-8e73-411f-90f1-00c6c84a1612"
      },
      "execution_count": 17,
      "outputs": [
        {
          "output_type": "execute_result",
          "data": {
            "text/plain": [
              "Text(0.5, 1.0, 'Histogram')"
            ]
          },
          "metadata": {},
          "execution_count": 17
        },
        {
          "output_type": "display_data",
          "data": {
            "text/plain": [
              "<Figure size 432x288 with 1 Axes>"
            ],
            "image/png": "[encoded data removed]"
          },
          "metadata": {
            "needs_background": "light"
          }
        }
      ]
    },
    {
      "cell_type": "markdown",
      "source": [
        "Задание 3 \n",
        "\n",
        "1) Дополните код Монте-Карло последовательности независимых испытаний\n",
        "расчетом соответствующих вероятностей (через биномиальное распределение)\n",
        "и сравните результаты."
      ],
      "metadata": {
        "id": "WaD3Rog-C46r"
      }
    },
    {
      "cell_type": "code",
      "source": [
        "import numpy as np\n",
        "import itertools\n",
        "import sys\n",
        "import math\n",
        "\n",
        "\n",
        "k, n = 0, 1000\n",
        "a = np.random.randint(0, 2, n)\n",
        "b = np.random.randint(0, 2, n)\n",
        "c = np.random.randint(0, 2, n)\n",
        "d = np.random.randint(0, 2, n)\n",
        "x = a + b + c + d\n",
        "for i in range(0, n):\n",
        "    if x[i] == 2:\n",
        "        k = k + 1\n",
        "v=(0.5**k)*(0.5**(n-k))\n",
        "#print(a, b, c, d)\n",
        "#print(x)\n",
        "print(k, n, k/n,v)"
      ],
      "metadata": {
        "colab": {
          "base_uri": "https://localhost:8080/"
        },
        "id": "Fe-ohjDvDLmR",
        "outputId": "4a363f3e-f341-4866-c05f-729b830a8645"
      },
      "execution_count": 19,
      "outputs": [
        {
          "output_type": "stream",
          "name": "stdout",
          "text": [
            "385 1000 0.385 9.332636185032189e-302\n"
          ]
        }
      ]
    },
    {
      "cell_type": "markdown",
      "source": [
        "2) Повторите расчеты биномиальных коэффициентов и вероятностей k успехов в\n",
        "последовательности из n независимых испытаний, взяв другие значения n и k."
      ],
      "metadata": {
        "id": "O-Oc7qMzDpU2"
      }
    },
    {
      "cell_type": "code",
      "source": [
        "k, n = 0, 1000\n",
        "a = np.random.randint(0, 2, n)\n",
        "b = np.random.randint(0, 2, n)\n",
        "c = np.random.randint(0, 2, n)\n",
        "d = np.random.randint(0, 2, n)\n",
        "x = a + b + c + d\n",
        "for i in range(0, n):\n",
        "    if x[i] == 4:\n",
        "        k = k + 1\n",
        "v=(0.5**k)*(0.5**(n-k))\n",
        "#print(a, b, c, d)\n",
        "#print(x)\n",
        "print(k, n, k/n,v)"
      ],
      "metadata": {
        "colab": {
          "base_uri": "https://localhost:8080/"
        },
        "id": "rh2N94p7Dsdb",
        "outputId": "a9e08095-5b70-454e-fe22-f3ccd953f937"
      },
      "execution_count": 21,
      "outputs": [
        {
          "output_type": "stream",
          "name": "stdout",
          "text": [
            "180 1000 0.18 9.332636185032189e-302\n"
          ]
        }
      ]
    },
    {
      "cell_type": "markdown",
      "source": [
        "Задание 4\n",
        "\n",
        "Из урока по комбинаторике повторите расчеты,\n",
        "сгенерировав возможные варианты перестановок для других значений n и k"
      ],
      "metadata": {
        "id": "dIFg4-r-EpEy"
      }
    },
    {
      "cell_type": "code",
      "source": [
        "import numpy as np\n",
        "import itertools\n",
        "\n",
        "for p in itertools.product(\"01\",repeat=2):\n",
        "    print(''.join(p))  "
      ],
      "metadata": {
        "colab": {
          "base_uri": "https://localhost:8080/"
        },
        "id": "2rOS-MssFEQs",
        "outputId": "7fd86562-a8f6-405c-8255-199944528e39"
      },
      "execution_count": 23,
      "outputs": [
        {
          "output_type": "stream",
          "name": "stdout",
          "text": [
            "00\n",
            "01\n",
            "10\n",
            "11\n"
          ]
        }
      ]
    },
    {
      "cell_type": "markdown",
      "source": [
        "Задание 5 \n",
        "\n",
        " Дополните код расчетом коэффициента корреляции x и y по\n",
        "формуле"
      ],
      "metadata": {
        "id": "CdVw9kgMFina"
      }
    },
    {
      "cell_type": "code",
      "source": [
        "n = 100\n",
        "r = 0.7\n",
        "x = np.random.rand(n)\n",
        "y = r*x + (1 - r)*np.random.rand(n)\n",
        "plt.plot(x, y, 'o')\n",
        "plt.xlabel('x')\n",
        "plt.ylabel('y')\n",
        "plt.grid(True)\n",
        "\n",
        "a = (np.sum(x)*np.sum(y) - n*np.sum(x*y))/(np.sum(x)*np.sum(x) - n*np.sum(x*x))\n",
        "b = (np.sum(y) - a*np.sum(x))/n\n",
        "\n",
        "A = np.vstack([x, np.ones(len(x))]).T\n",
        "a1, b1 = np.linalg.lstsq(A, y)[0]\n",
        "print(a, b)\n",
        "print(a1, b1)\n",
        "\n",
        "plt.plot([0, 1], [b, a + b])\n",
        "plt.show()"
      ],
      "metadata": {
        "colab": {
          "base_uri": "https://localhost:8080/",
          "height": 386
        },
        "id": "yxeC-rTdFpWB",
        "outputId": "2ef9664b-3d3f-40ad-e554-26e67a9f9aae"
      },
      "execution_count": 24,
      "outputs": [
        {
          "output_type": "stream",
          "name": "stdout",
          "text": [
            "0.6192636386877174 0.19205741661479764\n",
            "0.6192636386877175 0.19205741661479747\n"
          ]
        },
        {
          "output_type": "stream",
          "name": "stderr",
          "text": [
            "/usr/local/lib/python3.7/dist-packages/ipykernel_launcher.py:14: FutureWarning: `rcond` parameter will change to the default of machine precision times ``max(M, N)`` where M and N are the input matrix dimensions.\n",
            "To use the future default and silence this warning we advise to pass `rcond=None`, to keep using the old, explicitly pass `rcond=-1`.\n",
            "  \n"
          ]
        },
        {
          "output_type": "display_data",
          "data": {
            "text/plain": [
              "<Figure size 432x288 with 1 Axes>"
            ],
            "image/png": "[encoded data removed]"
          },
          "metadata": {
            "needs_background": "light"
          }
        }
      ]
    }
  ]
}
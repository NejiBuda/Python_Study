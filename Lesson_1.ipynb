{
  "nbformat": 4,
  "nbformat_minor": 0,
  "metadata": {
    "colab": {
      "name": "Untitled1.ipynb",
      "provenance": [],
      "collapsed_sections": [],
      "authorship_tag": "ABX9TyNXOJooA2CB/tfCdzNtfuqk",
      "include_colab_link": true
    },
    "kernelspec": {
      "name": "python3",
      "display_name": "Python 3"
    },
    "language_info": {
      "name": "python"
    }
  },
  "cells": [
    {
      "cell_type": "markdown",
      "metadata": {
        "id": "view-in-github",
        "colab_type": "text"
      },
      "source": [
        "<a href=\"https://colab.research.google.com/github/NejiBuda/Python_Study/blob/main/Task_4.ipynb\" target=\"_parent\"><img src=\"https://colab.research.google.com/assets/colab-badge.svg\" alt=\"Open In Colab\"/></a>"
      ]
    },
    {
      "cell_type": "code",
      "execution_count": null,
      "metadata": {
        "id": "hfmSNoot3lIa"
      },
      "outputs": [],
      "source": [
        "x=np.linspace(0, 10, 220)\n",
        "k1=1\n",
        "k2=2\n",
        "plt.plot(x, np.cos(k1*x))\n",
        "plt.plot(x, np.cos(k2*x))\n"
      ]
    },
    {
      "cell_type": "code",
      "source": [
        "y=np.linspace(0, 10, 220)\n",
        "k1=2\n",
        "k2=1\n",
        "plt.plot(y, np.cos(k1*y))\n",
        "plt.plot(y, np.cos(k2*y))\n",
        "\n",
        "[<matplotlib.lines.Line2D at 0x2b5a19ddc70>]\n"
      ],
      "metadata": {
        "id": "-DlDmkNm33XT"
      },
      "execution_count": null,
      "outputs": []
    },
    {
      "cell_type": "code",
      "source": [
        "x = np.linspace(0, 10, 150)\n",
        "plt.plot(x, np.sin(2*x))\n",
        "\n",
        "[<matplotlib.lines.Line2D at 0x2b5a21c9700>]"
      ],
      "metadata": {
        "id": "wrdGOz4638nk"
      },
      "execution_count": null,
      "outputs": []
    }
  ]
}

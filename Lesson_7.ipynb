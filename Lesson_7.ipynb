{
  "nbformat": 4,
  "nbformat_minor": 0,
  "metadata": {
    "colab": {
      "name": "Lesson_7.ipynb",
      "provenance": [],
      "authorship_tag": "ABX9TyPtXRqnzEAA43q4fPvSzkJF",
      "include_colab_link": true
    },
    "kernelspec": {
      "name": "python3",
      "display_name": "Python 3"
    },
    "language_info": {
      "name": "python"
    }
  },
  "cells": [
    {
      "cell_type": "markdown",
      "metadata": {
        "id": "view-in-github",
        "colab_type": "text"
      },
      "source": [
        "<a href=\"https://colab.research.google.com/github/NejiBuda/Python_Study/blob/main/Lesson_7.ipynb\" target=\"_parent\"><img src=\"https://colab.research.google.com/assets/colab-badge.svg\" alt=\"Open In Colab\"/></a>"
      ]
    },
    {
      "cell_type": "markdown",
      "source": [
        "Задание 5.3\n",
        "\n",
        "Вычеслить матрицу обратную данной из задания номер №5.2 "
      ],
      "metadata": {
        "id": "OUeFgZBHQgSk"
      }
    },
    {
      "cell_type": "code",
      "execution_count": 2,
      "metadata": {
        "colab": {
          "base_uri": "https://localhost:8080/"
        },
        "id": "bFQdkhBiOE6B",
        "outputId": "a3582ce0-0690-4544-bcdf-c940f5735142"
      },
      "outputs": [
        {
          "output_type": "stream",
          "name": "stdout",
          "text": [
            "[[1 2 3]\n",
            " [4 0 6]\n",
            " [7 8 9]]\n"
          ]
        }
      ],
      "source": [
        "import numpy as np\n",
        "a=(np.matrix([[ 1,  2,  3],\n",
        " [ 4, 0, 6],\n",
        " [7, 8, 9]]))\n",
        "print(a)"
      ]
    },
    {
      "cell_type": "code",
      "source": [
        "p = np.linalg.inv(a)\n",
        "print(p)"
      ],
      "metadata": {
        "id": "qeWrgFAZQctY",
        "outputId": "d01f9a70-b5e8-43ed-f057-5798bb3a5dd9",
        "colab": {
          "base_uri": "https://localhost:8080/"
        }
      },
      "execution_count": 11,
      "outputs": [
        {
          "output_type": "stream",
          "name": "stdout",
          "text": [
            "[[-0.8         0.1         0.2       ]\n",
            " [ 0.1        -0.2         0.1       ]\n",
            " [ 0.53333333  0.1        -0.13333333]]\n"
          ]
        }
      ]
    },
    {
      "cell_type": "markdown",
      "source": [
        "Приведите пример матрицы 4х4, ранг которой равен 1."
      ],
      "metadata": {
        "id": "S5FPF4v0U6C6"
      }
    },
    {
      "cell_type": "code",
      "source": [
        "f = np.array([[1, -1, 2, -2], [2, -2, 4, -4], [-1, 1, -2, 2], [-2, 2, -4, 4]])\n",
        "print(f)\n",
        "np.linalg.matrix_rank(f, 0.0001)"
      ],
      "metadata": {
        "id": "w0uaM5jaT2OP",
        "outputId": "5da61019-2dce-4080-f55f-8aca4dde9a79",
        "colab": {
          "base_uri": "https://localhost:8080/"
        }
      },
      "execution_count": 17,
      "outputs": [
        {
          "output_type": "stream",
          "name": "stdout",
          "text": [
            "[[ 1 -1  2 -2]\n",
            " [ 2 -2  4 -4]\n",
            " [-1  1 -2  2]\n",
            " [-2  2 -4  4]]\n"
          ]
        },
        {
          "output_type": "execute_result",
          "data": {
            "text/plain": [
              "1"
            ]
          },
          "metadata": {},
          "execution_count": 17
        }
      ]
    },
    {
      "cell_type": "markdown",
      "source": [
        "Задние №5.4\n",
        "\n",
        "Вычислите скалярное произведение двух векторов:\n",
        "(1, 5) и (2, 8)"
      ],
      "metadata": {
        "id": "zjan7CzwYGFS"
      }
    },
    {
      "cell_type": "code",
      "source": [
        "%matplotlib inline\n",
        "import numpy as np\n",
        "import matplotlib.pyplot as plt\n",
        "\n",
        "a = np.array([1, 5], float)\n",
        "b = np.array([2, 8], float)\n",
        "X, Y = np.array([0, 0]), np.array([0, 0])\n",
        "U, V = np.array([a[0], b[0]]), np.array([a[1], b[1]])\n",
        "\n",
        "plt.quiver(X, Y, U, V, angles='xy', scale_units='xy', scale=1)\n",
        "\n",
        "plt.xlim(-1, 10)\n",
        "plt.ylim(-1, 10)\n",
        "plt.grid(True)\n",
        "plt.show()\n",
        "\n",
        "s = np.inner(a, b)\n",
        "s/(np.linalg.norm(a)*np.linalg.norm(b))"
      ],
      "metadata": {
        "id": "FN_Eb_ZdWKoZ",
        "outputId": "71f7b495-b55b-4f8b-f7e3-3ccb917cc5ec",
        "colab": {
          "base_uri": "https://localhost:8080/",
          "height": 286
        }
      },
      "execution_count": 21,
      "outputs": [
        {
          "output_type": "display_data",
          "data": {
            "text/plain": [
              "<Figure size 432x288 with 1 Axes>"
            ],
            "image/png": "[encoded data removed]"
          },
          "metadata": {
            "needs_background": "light"
          }
        },
        {
          "output_type": "execute_result",
          "data": {
            "text/plain": [
              "0.9988681377244377"
            ]
          },
          "metadata": {},
          "execution_count": 21
        }
      ]
    }
  ]
}